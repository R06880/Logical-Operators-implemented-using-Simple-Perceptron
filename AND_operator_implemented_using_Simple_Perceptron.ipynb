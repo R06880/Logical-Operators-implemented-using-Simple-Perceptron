{
 "cells": [
  {
   "cell_type": "markdown",
   "metadata": {},
   "source": [
    "## AND Logical Operator implemented using a simple perceptron"
   ]
  },
  {
   "cell_type": "code",
   "execution_count": 11,
   "metadata": {},
   "outputs": [],
   "source": [
    "#importing libraries\n",
    "\n",
    "import numpy as np\n",
    "import matplotlib.pyplot as plt"
   ]
  },
  {
   "cell_type": "code",
   "execution_count": 12,
   "metadata": {},
   "outputs": [],
   "source": [
    "# defining the actibation function\n",
    "# in this case, we will use sigmoid\n",
    "\n",
    "# s(x) = 1/(1+e^(-x))\n",
    "\n",
    "def sigmoid(z):\n",
    "  \n",
    "    return 1 / (1 + np.exp(-z))"
   ]
  },
  {
   "cell_type": "code",
   "execution_count": 13,
   "metadata": {},
   "outputs": [],
   "source": [
    "# for a single layer perceptron, the output is computed as:\n",
    "# y_pred = sigmoid(X1*w1 + X2*w2 + ...+ bias)\n",
    "\n",
    "def forward_propagation(X, W, b):\n",
    "    weighted_sum = np.dot(X, W) + b # calculate the weighted sum of X and W\n",
    "    prediction = sigmoid(weighted_sum) # apply the sigmoid activation function\n",
    "    return prediction\n"
   ]
  },
  {
   "cell_type": "code",
   "execution_count": 14,
   "metadata": {},
   "outputs": [],
   "source": [
    "# for classification problems, the error used is binary cross entropy\n",
    "# because it penalizes the wrong classifications more\n",
    "\n",
    "def calculate_error(y, y_predicted):\n",
    "   loss = np.sum(- y * np.log(y_predicted) - (1 - y) * np.log(1 - y_predicted)) \n",
    "   return loss"
   ]
  },
  {
   "cell_type": "code",
   "execution_count": 15,
   "metadata": {},
   "outputs": [],
   "source": [
    "# defining a function which computes the gradient\n",
    "# dW = (Y_pred - Y)*X\n",
    "# db = (Y_pred - Y)\n",
    "\n",
    "def gradient(X, Y, Y_predicted):\n",
    "\n",
    "    Error = Y_predicted - Y \n",
    "    \n",
    "    dW = np.dot(X.T, Error)\n",
    "    db = np.sum(Error) \n",
    "    \n",
    "    return dW, db \n"
   ]
  },
  {
   "cell_type": "code",
   "execution_count": 16,
   "metadata": {},
   "outputs": [],
   "source": [
    "# function to update the parameters\n",
    "# W = W - learning_rate*dW\n",
    "# b = b - learning_rate * db\n",
    "\n",
    "def update_parameters(W, b, dW, db, learning_rate):\n",
    "\n",
    "    W = W - learning_rate * dW \n",
    "    b = b - learning_rate * db \n",
    "    \n",
    "    return W, b\n"
   ]
  },
  {
   "cell_type": "code",
   "execution_count": 17,
   "metadata": {},
   "outputs": [],
   "source": [
    "# function to train the perceptron with batch update\n",
    "\n",
    "def train(X, Y, learning_rate, W, b, epochs, losses):\n",
    "  \n",
    "    for i in range(epochs): \n",
    "        \n",
    "        Y_predicted = forward_propagation(X, W, b)\n",
    "        \n",
    "        losses[i, 0] = calculate_error(Y, Y_predicted)\n",
    "        \n",
    "        dW, db = gradient(X, Y, Y_predicted)\n",
    "        W, b = update_parameters(W, b, dW, db, learning_rate)\n",
    "        \n",
    "\n",
    "    return W, b, losses"
   ]
  },
  {
   "cell_type": "code",
   "execution_count": 18,
   "metadata": {},
   "outputs": [
    {
     "name": "stdout",
     "output_type": "stream",
     "text": [
      "Before training\n",
      "weights: [0. 0.] bias: 0.0\n",
      "Target labels: [0 0 0 1]\n"
     ]
    }
   ],
   "source": [
    "# AND operator is defined as follows:\n",
    "# 0 AND 0 = 0\n",
    "# 0 AND 1 = 0\n",
    "# 1 AND 0 = 0\n",
    "# 1 AND 1 = 1\n",
    "\n",
    "X = np.array([[0, 0], [0, 1], [1, 0], [1, 1]]) # declaring four data points\n",
    "Y = np.array([0, 0, 0, 1]) # actual label\n",
    "\n",
    "weights = np.array([0.0, 0.0]) # weights of perceptron\n",
    "\n",
    "bias = 0.0 # bias value\n",
    "\n",
    "epochs = 10000 # total epochs\n",
    "\n",
    "learning_rate = 0.01 # learning rate\n",
    "\n",
    "losses = np.zeros((epochs, 1)) # compute loss\n",
    "\n",
    "print(\"Before training\")\n",
    "print(\"weights:\", weights, \"bias:\", bias)\n",
    "print(\"Target labels:\", Y)"
   ]
  },
  {
   "cell_type": "code",
   "execution_count": 19,
   "metadata": {},
   "outputs": [
    {
     "data": {
      "image/png": "[encoded data removed]",
      "text/plain": [
       "<Figure size 432x288 with 1 Axes>"
      ]
     },
     "metadata": {
      "needs_background": "light"
     },
     "output_type": "display_data"
    },
    {
     "name": "stdout",
     "output_type": "stream",
     "text": [
      "\n",
      "After training\n",
      "weights: [5.56748034 5.56748034] bias: -8.530884655607794\n",
      "Predicted labels: [0 0 0 1]\n"
     ]
    },
    {
     "data": {
      "text/plain": [
       "<Figure size 432x288 with 0 Axes>"
      ]
     },
     "metadata": {},
     "output_type": "display_data"
    }
   ],
   "source": [
    "weights, bias, losses = train(X, Y, learning_rate, weights, bias, epochs, losses)\n",
    "\n",
    "# Evaluating the performance \n",
    "plt.figure() \n",
    "plt.plot(losses) \n",
    "plt.xlabel(\"EPOCHS\") \n",
    "plt.ylabel(\"Loss value\") \n",
    "plt.show() \n",
    "plt.savefig('legend.png')\n",
    "\n",
    "print(\"\\nAfter training\")\n",
    "print(\"weights:\", weights, \"bias:\", bias)\n",
    "\n",
    "# Predict value\n",
    "A2 = forward_propagation(X, weights, bias)\n",
    "pred = (A2 > 0.5) * 1\n",
    "print(\"Predicted labels:\", pred)"
   ]
  },
  {
   "cell_type": "code",
   "execution_count": null,
   "metadata": {},
   "outputs": [],
   "source": []
  }
 ],
 "metadata": {
  "kernelspec": {
   "display_name": "Python 3",
   "language": "python",
   "name": "python3"
  },
  "language_info": {
   "codemirror_mode": {
    "name": "ipython",
    "version": 3
   },
   "file_extension": ".py",
   "mimetype": "text/x-python",
   "name": "python",
   "nbconvert_exporter": "python",
   "pygments_lexer": "ipython3",
   "version": "3.7.3"
  }
 },
 "nbformat": 4,
 "nbformat_minor": 2
}
